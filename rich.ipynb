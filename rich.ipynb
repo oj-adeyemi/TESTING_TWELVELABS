{
 "cells": [
  {
   "cell_type": "code",
   "execution_count": 50,
   "metadata": {},
   "outputs": [
    {
     "data": {
      "text/html": [
       "<pre style=\"white-space:pre;overflow-x:auto;line-height:normal;font-family:Menlo,'DejaVu Sans Mono',consolas,'Courier New',monospace\"><span style=\"color: #008080; text-decoration-color: #008080; font-weight: bold; text-decoration: underline\"> THIS SHOULD {name} BE BLUE </span>\n",
       "</pre>\n"
      ],
      "text/plain": [
       "\u001b[1;4;36m THIS SHOULD \u001b[0m\u001b[1;4;36m{\u001b[0m\u001b[1;4;36mname\u001b[0m\u001b[1;4;36m}\u001b[0m\u001b[1;4;36m BE BLUE \u001b[0m\n"
      ]
     },
     "metadata": {},
     "output_type": "display_data"
    },
    {
     "data": {
      "text/html": [
       "<pre style=\"white-space:pre;overflow-x:auto;line-height:normal;font-family:Menlo,'DejaVu Sans Mono',consolas,'Courier New',monospace\">                                                                                                                   \n",
       "<span style=\"color: #008080; text-decoration-color: #008080\">🏇 Using: ABC123</span>                                                                                                   \n",
       "                                                                                                                   \n",
       "</pre>\n"
      ],
      "text/plain": [
       "                                                                                                                   \n",
       "\u001b[36m🏇 Using: ABC123\u001b[0m                                                                                                   \n",
       "                                                                                                                   \n"
      ]
     },
     "metadata": {},
     "output_type": "display_data"
    }
   ],
   "source": [
    "from gc import get_count\n",
    "from rich.console import Console\n",
    "import json\n",
    "from rich import inspect\n",
    "from rich.padding import Padding\n",
    "from rich.json import JSON\n",
    "\n",
    "console = Console()\n",
    "\n",
    "console.print(\"[bold cyan][u] THIS SHOULD {name} BE BLUE [/u][/bold cyan]\")\n",
    "\n",
    "console.print(Padding(f\"[cyan]🏇 Using: ABC123\", (1, 1, 1, 0))) #padding is top, right, bottom, left in that order\n",
    "\n",
    "\n"
   ]
  }
 ],
 "metadata": {
  "kernelspec": {
   "display_name": ".venv",
   "language": "python",
   "name": "python3"
  },
  "language_info": {
   "codemirror_mode": {
    "name": "ipython",
    "version": 3
   },
   "file_extension": ".py",
   "mimetype": "text/x-python",
   "name": "python",
   "nbconvert_exporter": "python",
   "pygments_lexer": "ipython3",
   "version": "3.11.1"
  }
 },
 "nbformat": 4,
 "nbformat_minor": 2
}
