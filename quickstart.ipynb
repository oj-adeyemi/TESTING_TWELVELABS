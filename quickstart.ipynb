{
 "cells": [
  {
   "cell_type": "code",
   "execution_count": 34,
   "metadata": {},
   "outputs": [
    {
     "data": {
      "text/plain": [
       "True"
      ]
     },
     "execution_count": 34,
     "metadata": {},
     "output_type": "execute_result"
    }
   ],
   "source": [
    "import os\n",
    "from dotenv import load_dotenv\n",
    "load_dotenv() #get environment variables from .env file"
   ]
  },
  {
   "cell_type": "markdown",
   "metadata": {},
   "source": [
    "### Instiantiate TwelveLabs Client with API KEY"
   ]
  },
  {
   "cell_type": "code",
   "execution_count": 80,
   "metadata": {},
   "outputs": [],
   "source": [
    "from twelvelabs import TwelveLabs\n",
    "\n",
    "client = TwelveLabs(api_key=os.getenv(\"API_KEY\"))"
   ]
  },
  {
   "cell_type": "markdown",
   "metadata": {},
   "source": [
    "Create an Index  *(ONLY RUN ONCE)*"
   ]
  },
  {
   "cell_type": "code",
   "execution_count": 37,
   "metadata": {},
   "outputs": [
    {
     "name": "stdout",
     "output_type": "stream",
     "text": [
      "Creating Index... \n",
      "\n",
      "Index(id='66844735eb3979a66bdc9f94', created_at='2024-07-02T18:30:13.506Z', updated_at='2024-07-02T18:30:13.506Z', name='IndexfromLAPTOP', engines=RootModelList[Engine](root=[Engine(name='pegasus1', options=['visual'], addons=None), Engine(name='marengo2.6', options=['visual'], addons=None)]), video_count=0, total_duration=0.0, expires_at='2024-09-30T18:30:13.506Z')\n"
     ]
    }
   ],
   "source": [
    "from twelvelabs import APIStatusError\n",
    "\n",
    "index_object = None\n",
    "\n",
    "try:\n",
    "    print(\"Creating Index... \\n\")\n",
    "    index_object = client.index.create(\n",
    "        name = \"IndexfromLAPTOP\",\n",
    "        engines = [{\"name\" : \"marengo2.6\", \"options\" : [\"visual\"]},{\"name\" : \"pegasus1\", \"options\" : [\"visual\"]}]\n",
    "    )\n",
    "    print(index_object)\n",
    "except APIStatusError as e:\n",
    "    print(\"API Status Error, 4xx or 5xx : \",e)\n",
    "except Exception as e:\n",
    "    print(e)\n"
   ]
  },
  {
   "cell_type": "code",
   "execution_count": 81,
   "metadata": {},
   "outputs": [
    {
     "name": "stdout",
     "output_type": "stream",
     "text": [
      "Index ID: 66844735eb3979a66bdc9f94\n",
      "Index Name: IndexfromLAPTOP\n",
      "Index Engines: [Engine(name='pegasus1', options=['visual'], addons=None), Engine(name='marengo2.6', options=['visual'], addons=None)]\n",
      "---\n",
      "Index ID: 66841d79eb3979a66bdc9f30\n",
      "Index Name: Index1\n",
      "Index Engines: [Engine(name='marengo2.6', options=['visual', 'conversation', 'text_in_video', 'logo'], addons=None), Engine(name='pegasus1', options=['visual', 'conversation'], addons=None)]\n",
      "---\n",
      "Index ID: 66841c757e3a05b242e8b122\n",
      "Index Name: My Index (Default)\n",
      "Index Engines: [Engine(name='marengo2.6', options=['visual', 'conversation', 'text_in_video', 'logo'], addons=None), Engine(name='pegasus1', options=['visual', 'conversation'], addons=None)]\n",
      "---\n"
     ]
    }
   ],
   "source": [
    "indexes = client.index.list().root\n",
    "for index in indexes:\n",
    "    index_id = index.id\n",
    "    index_name = index.name\n",
    "    index_engines = index.engines.root\n",
    "    \n",
    "    print(\"Index ID:\", index_id)\n",
    "    print(\"Index Name:\", index_name)\n",
    "    print(\"Index Engines:\", index_engines)\n",
    "    print(\"---\")"
   ]
  },
  {
   "cell_type": "code",
   "execution_count": 154,
   "metadata": {},
   "outputs": [
    {
     "name": "stdout",
     "output_type": "stream",
     "text": [
      "Video ID: 66844ca6d22b3a3c97bf39da\n",
      "Video NAme: LBJ.mp4\n",
      "Video ID: 66844ca4d22b3a3c97bf39d9\n",
      "Video NAme: tml-draft.mov\n",
      "Video ID: 66844c9fd22b3a3c97bf39d8\n",
      "Video NAme: plays.mp4\n"
     ]
    }
   ],
   "source": [
    "videos = client.index.video.list(\"66844735eb3979a66bdc9f94\").root\n",
    "for vid in videos:\n",
    "    video_id = vid.id\n",
    "    video_name = vid.metadata.filename\n",
    "    \n",
    "    print(\"Video ID:\", video_id)\n",
    "    print(\"Video NAme:\", video_name)"
   ]
  },
  {
   "cell_type": "markdown",
   "metadata": {},
   "source": [
    "Uploading Video to Index"
   ]
  },
  {
   "cell_type": "code",
   "execution_count": 87,
   "metadata": {},
   "outputs": [
    {
     "name": "stdout",
     "output_type": "stream",
     "text": [
      "Uploading ./plays.mp4\n",
      "Task id=66844c9feb3979a66bdc9fae\n",
      "\n",
      "Uploading ./tml-draft.mov\n",
      "Task id=66844ca3eb3979a66bdc9fb1\n",
      "\n",
      "Uploading ./LBJ.mp4\n",
      "Task id=66844ca5eb3979a66bdc9fb4\n",
      "\n",
      "  Status=validating\n",
      "  Status=validating\n",
      "  Status=validating\n",
      "  Status=pending\n",
      "  Status=pending\n",
      "  Status=pending\n",
      "  Status=pending\n",
      "  Status=pending\n",
      "  Status=pending\n",
      "  Status=pending\n",
      "  Status=pending\n",
      "  Status=pending\n",
      "  Status=pending\n",
      "  Status=pending\n",
      "  Status=pending\n",
      "  Status=pending\n",
      "  Status=pending\n",
      "  Status=pending\n",
      "  Status=pending\n",
      "  Status=pending\n",
      "  Status=pending\n",
      "  Status=pending\n",
      "  Status=pending\n",
      "  Status=pending\n",
      "  Status=pending\n",
      "  Status=pending\n",
      "  Status=pending\n",
      "  Status=pending\n",
      "  Status=pending\n",
      "  Status=pending\n",
      "  Status=indexing\n",
      "  Status=indexing\n",
      "  Status=indexing\n",
      "  Status=indexing\n",
      "  Status=indexing\n",
      "  Status=indexing\n",
      "  Status=indexing\n",
      "  Status=indexing\n",
      "  Status=indexing\n",
      "  Status=indexing\n",
      "  Status=indexing\n",
      "  Status=indexing\n",
      "  Status=indexing\n",
      "  Status=indexing\n",
      "  Status=indexing\n",
      "  Status=indexing\n",
      "  Status=indexing\n",
      "  Status=indexing\n",
      "  Status=indexing\n",
      "  Status=indexing\n",
      "  Status=indexing\n",
      "  Status=indexing\n",
      "  Status=indexing\n",
      "  Status=indexing\n",
      "  Status=indexing\n",
      "  Status=ready\n",
      "Uploaded ./LBJ.mp4. The unique identifer of your video is 66844ca6d22b3a3c97bf39da.\n"
     ]
    }
   ],
   "source": [
    "from glob import glob\n",
    "from twelvelabs.models.task import Task\n",
    "from twelvelabs import BadRequestError\n",
    "\n",
    "video_files = glob(\"./*.m[op][v4]\")\n",
    "\n",
    "for vid in video_files:\n",
    "    print(f\"Uploading {vid}\")\n",
    "    try:\n",
    "        task = client.task.create(index_id=\"66844735eb3979a66bdc9f94\", file=vid, language=\"en\")\n",
    "        print(f\"Task id={task.id}\\n\")\n",
    "    except BadRequestError as e:\n",
    "        print(f\"Error with task: {e}\")\n",
    "    \n",
    " #Optional) Monitor the video indexing process\n",
    "# Utility function to print the status of a video indexing task\n",
    "def on_task_update(task: Task):\n",
    "        print(f\"  Status={task.status}\")\n",
    "try:        \n",
    "    task.wait_for_done(callback=on_task_update)\n",
    "    if task.status != \"ready\":\n",
    "        raise RuntimeError(f\"Indexing failed with status {task.status}\")\n",
    "    print(f\"Uploaded {vid}. The unique identifer of your video is {task.video_id}.\")\n",
    "except Exception as e:\n",
    "    print(f\"Error : {e}\")"
   ]
  },
  {
   "cell_type": "code",
   "execution_count": 165,
   "metadata": {},
   "outputs": [],
   "source": [
    "#Search through video\n",
    "\n",
    "result = client.search.query(\"66844735eb3979a66bdc9f94\",\n",
    "                             [\"visual\"],\n",
    "                             query_text=\"Kobe Bryant\",\n",
    "                             group_by=\"clip\",\n",
    "                             threshold=\"high\",sort_option=\"score\")\n"
   ]
  },
  {
   "cell_type": "code",
   "execution_count": 166,
   "metadata": {},
   "outputs": [],
   "source": [
    "import math\n",
    "\n",
    "def convert_seconds(seconds):\n",
    "    \"\"\"Converts seconds to hours, minutes, and seconds in format HH:MM:SS or MM:SS\"\"\"\n",
    "    hours = int(seconds // 3600)\n",
    "    minutes = int((seconds % 3600) // 60)\n",
    "    seconds_remaining = math.floor(seconds % 60)\n",
    "    \n",
    "    if hours > 0:\n",
    "        return f\"{hours}:{minutes:02}:{seconds_remaining:02}\"\n",
    "    else:\n",
    "        return f\"{minutes}:{seconds_remaining:02}\"\n",
    "    \n",
    "    \n",
    "# from moviepy.video.io.VideoFileClip import VideoFileClip\n",
    "\n",
    "# def clip_video(video_file, start_seconds, end_seconds, output_file='output.mp4'):\n",
    "#     \"\"\"This requires ffmpeg to be installed in computer\"\"\"\n",
    "#     # Load video clip\n",
    "#     video = VideoFileClip(video_file)\n",
    "\n",
    "#     # Ensure end time does not exceed video duration\n",
    "#     end_seconds = min(end_seconds, video.duration)\n",
    "\n",
    "#     # Extract the subclip\n",
    "#     subclip = video.subclip(start_seconds, end_seconds)\n",
    "\n",
    "#     # Write the subclip to a file\n",
    "#     subclip.write_videofile(output_file, codec='libx264', audio_codec='aac')\n",
    "\n",
    "#     # Close the video file\n",
    "#     video.reader.close()\n",
    "#     video.audio.reader.close_proc()\n",
    "\n"
   ]
  },
  {
   "cell_type": "code",
   "execution_count": 167,
   "metadata": {},
   "outputs": [
    {
     "name": "stdout",
     "output_type": "stream",
     "text": [
      "video=plays.mp4  score=87.27 start=7:29 end=7:39 confidence=high\n",
      "video=plays.mp4  score=87.03 start=6:33 end=6:37 confidence=high\n",
      "video=plays.mp4  score=86.91 start=3:05 end=3:11 confidence=high\n",
      "video=plays.mp4  score=86.41 start=0:18 end=0:21 confidence=high\n",
      "video=plays.mp4  score=86.27 start=0:03 end=0:07 confidence=high\n",
      "video=plays.mp4  score=86.21 start=7:11 end=7:22 confidence=high\n",
      "video=plays.mp4  score=86.17 start=4:55 end=5:02 confidence=high\n",
      "video=plays.mp4  score=86.15 start=3:31 end=3:48 confidence=high\n",
      "video=plays.mp4  score=86.13 start=4:29 end=4:34 confidence=high\n",
      "video=plays.mp4  score=86.13 start=5:04 end=5:09 confidence=high\n"
     ]
    }
   ],
   "source": [
    "for clip in result.data:\n",
    "      print(\n",
    "            f\"video={video_name}  score={clip.score} start={convert_seconds(clip.start)} end={convert_seconds(clip.end)} confidence={clip.confidence}\"\n",
    "        )\n",
    "\n"
   ]
  },
  {
   "cell_type": "code",
   "execution_count": 168,
   "metadata": {},
   "outputs": [
    {
     "name": "stdout",
     "output_type": "stream",
     "text": [
      "Next page's data \n",
      "\n",
      "video=plays.mp4  score=86.07 start=6:24 end=6:33 confidence=high\n",
      "video=plays.mp4  score=86.06 start=2:35 end=2:40 confidence=high\n",
      "video=plays.mp4  score=85.89 start=3:11 end=3:13 confidence=high\n",
      "video=plays.mp4  score=85.86 start=9:29 end=9:36 confidence=high\n",
      "video=plays.mp4  score=85.76 start=5:20 end=5:32 confidence=high\n",
      "video=plays.mp4  score=85.76 start=8:28 end=8:31 confidence=high\n",
      "video=plays.mp4  score=85.74 start=5:51 end=6:06 confidence=high\n",
      "video=plays.mp4  score=85.74 start=6:37 end=6:42 confidence=high\n",
      "video=plays.mp4  score=85.63 start=2:08 end=2:17 confidence=high\n",
      "video=plays.mp4  score=85.63 start=9:20 end=9:29 confidence=high\n",
      "Next page's data \n",
      "\n",
      "video=plays.mp4  score=85.57 start=9:15 end=9:18 confidence=high\n",
      "video=plays.mp4  score=85.53 start=1:33 end=1:48 confidence=high\n",
      "video=plays.mp4  score=85.48 start=0:30 end=0:38 confidence=high\n",
      "video=plays.mp4  score=85.48 start=4:01 end=4:29 confidence=high\n",
      "video=plays.mp4  score=85.43 start=4:12 end=4:18 confidence=high\n",
      "video=plays.mp4  score=85.39 start=8:40 end=8:59 confidence=high\n",
      "video=plays.mp4  score=85.38 start=0:14 end=0:18 confidence=high\n",
      "video=plays.mp4  score=85.29 start=1:19 end=1:30 confidence=high\n",
      "video=plays.mp4  score=85.29 start=8:00 end=8:05 confidence=high\n",
      "video=plays.mp4  score=85.27 start=5:02 end=5:04 confidence=high\n",
      "Next page's data \n",
      "\n",
      "video=plays.mp4  score=85.25 start=0:00 end=0:02 confidence=high\n",
      "video=plays.mp4  score=85.25 start=7:39 end=7:47 confidence=high\n",
      "video=plays.mp4  score=85.23 start=1:06 end=1:13 confidence=high\n",
      "video=plays.mp4  score=85.2 start=0:27 end=0:33 confidence=high\n",
      "video=plays.mp4  score=85.2 start=6:06 end=6:24 confidence=high\n",
      "video=plays.mp4  score=85.11 start=9:36 end=10:00 confidence=high\n",
      "video=plays.mp4  score=85.05 start=0:36 end=0:40 confidence=high\n",
      "video=plays.mp4  score=85.04 start=2:44 end=3:01 confidence=high\n",
      "video=plays.mp4  score=85.02 start=3:04 end=3:13 confidence=high\n",
      "video=plays.mp4  score=85.01 start=3:59 end=4:12 confidence=high\n",
      "Next page's data \n",
      "\n",
      "video=plays.mp4  score=84.96 start=3:48 end=3:54 confidence=high\n",
      "video=plays.mp4  score=84.95 start=2:40 end=2:45 confidence=high\n",
      "video=plays.mp4  score=84.93 start=0:38 end=1:17 confidence=high\n",
      "video=plays.mp4  score=84.84 start=1:29 end=1:44 confidence=high\n",
      "video=plays.mp4  score=84.84 start=5:47 end=5:51 confidence=high\n",
      "video=plays.mp4  score=84.83 start=3:13 end=3:17 confidence=high\n",
      "video=plays.mp4  score=84.83 start=4:34 end=4:49 confidence=high\n",
      "video=plays.mp4  score=84.83 start=9:18 end=9:20 confidence=high\n",
      "video=plays.mp4  score=84.82 start=0:21 end=0:30 confidence=high\n",
      "video=plays.mp4  score=84.81 start=8:05 end=8:28 confidence=high\n",
      "Next page's data \n",
      "\n",
      "video=plays.mp4  score=84.8 start=7:47 end=8:00 confidence=high\n",
      "video=plays.mp4  score=84.78 start=2:19 end=2:36 confidence=high\n",
      "video=plays.mp4  score=84.74 start=6:42 end=6:46 confidence=high\n",
      "video=plays.mp4  score=84.74 start=6:48 end=7:00 confidence=high\n",
      "video=plays.mp4  score=84.72 start=3:22 end=3:31 confidence=high\n",
      "video=plays.mp4  score=84.7 start=5:09 end=5:13 confidence=high\n",
      "video=plays.mp4  score=84.63 start=1:44 end=1:57 confidence=high\n",
      "video=plays.mp4  score=84.63 start=2:02 end=2:12 confidence=high\n",
      "video=plays.mp4  score=84.6 start=3:57 end=4:01 confidence=high\n",
      "video=plays.mp4  score=84.59 start=1:17 end=1:23 confidence=high\n",
      "Next page's data \n",
      "\n",
      "video=plays.mp4  score=84.57 start=7:22 end=7:25 confidence=high\n",
      "video=plays.mp4  score=84.55 start=2:17 end=2:32 confidence=high\n",
      "video=plays.mp4  score=84.53 start=0:09 end=0:21 confidence=high\n",
      "video=plays.mp4  score=84.51 start=0:40 end=1:01 confidence=high\n",
      "video=plays.mp4  score=84.5 start=3:22 end=3:33 confidence=high\n",
      "video=plays.mp4  score=84.49 start=1:48 end=2:02 confidence=high\n",
      "video=plays.mp4  score=84.49 start=5:13 end=5:20 confidence=high\n",
      "video=plays.mp4  score=84.44 start=1:30 end=1:33 confidence=high\n",
      "video=plays.mp4  score=84.43 start=0:02 end=0:06 confidence=high\n",
      "video=plays.mp4  score=84.4 start=8:59 end=9:15 confidence=high\n",
      "Next page's data \n",
      "\n",
      "video=plays.mp4  score=84.32 start=5:32 end=5:47 confidence=high\n",
      "video=plays.mp4  score=84.3 start=3:33 end=3:52 confidence=high\n",
      "video=plays.mp4  score=84.27 start=2:36 end=2:44 confidence=high\n",
      "video=plays.mp4  score=84.22 start=8:31 end=8:40 confidence=high\n",
      "video=plays.mp4  score=84.18 start=0:00 end=0:03 confidence=high\n",
      "video=plays.mp4  score=84.18 start=4:49 end=4:55 confidence=high\n",
      "video=plays.mp4  score=84.15 start=3:13 end=3:22 confidence=high\n",
      "video=plays.mp4  score=84.13 start=0:07 end=0:14 confidence=high\n",
      "video=plays.mp4  score=84.1 start=3:01 end=3:05 confidence=high\n",
      "video=plays.mp4  score=84.08 start=0:33 end=0:36 confidence=high\n",
      "Next page's data \n",
      "\n",
      "video=plays.mp4  score=84.05 start=1:23 end=1:29 confidence=high\n",
      "video=plays.mp4  score=84.03 start=7:00 end=7:11 confidence=high\n",
      "video=plays.mp4  score=83.98 start=2:12 end=2:19 confidence=high\n",
      "video=plays.mp4  score=83.98 start=3:52 end=3:59 confidence=high\n",
      "video=plays.mp4  score=83.97 start=3:17 end=3:22 confidence=high\n",
      "video=plays.mp4  score=83.95 start=6:46 end=6:48 confidence=high\n",
      "video=plays.mp4  score=83.94 start=3:54 end=3:57 confidence=high\n",
      "video=plays.mp4  score=83.91 start=2:45 end=2:57 confidence=high\n",
      "video=plays.mp4  score=83.83 start=1:17 end=1:19 confidence=high\n",
      "video=plays.mp4  score=83.82 start=0:21 end=0:27 confidence=high\n",
      "Next page's data \n",
      "\n",
      "video=plays.mp4  score=83.8 start=1:13 end=1:17 confidence=high\n",
      "video=plays.mp4  score=83.78 start=0:06 end=0:09 confidence=high\n",
      "video=plays.mp4  score=83.76 start=1:57 end=2:08 confidence=high\n",
      "video=plays.mp4  score=83.76 start=7:25 end=7:29 confidence=high\n",
      "video=plays.mp4  score=83.66 start=2:32 end=2:35 confidence=high\n",
      "video=plays.mp4  score=83.47 start=1:01 end=1:06 confidence=high\n",
      "video=plays.mp4  score=83.42 start=2:57 end=3:04 confidence=high\n",
      "video=plays.mp4  score=83.07 start=0:06 end=0:15 confidence=high\n",
      "\n",
      "There is no next page in search result\n"
     ]
    }
   ],
   "source": [
    "while True:\n",
    "    try:\n",
    "        next_page_data = next(result)\n",
    "        print(f\"Next page's data \\n\")\n",
    "        for clip in next_page_data:\n",
    "            print(\n",
    "                 f\"video={video_name}  score={clip.score} start={convert_seconds(clip.start)} end={convert_seconds(clip.end)} confidence={clip.confidence}\"\n",
    "            )\n",
    "    except StopIteration:\n",
    "        print(\"\\nThere is no next page in search result\")\n",
    "        break"
   ]
  },
  {
   "cell_type": "code",
   "execution_count": null,
   "metadata": {},
   "outputs": [],
   "source": []
  }
 ],
 "metadata": {
  "kernelspec": {
   "display_name": ".venv",
   "language": "python",
   "name": "python3"
  },
  "language_info": {
   "codemirror_mode": {
    "name": "ipython",
    "version": 3
   },
   "file_extension": ".py",
   "mimetype": "text/x-python",
   "name": "python",
   "nbconvert_exporter": "python",
   "pygments_lexer": "ipython3",
   "version": "3.11.1"
  }
 },
 "nbformat": 4,
 "nbformat_minor": 2
}
