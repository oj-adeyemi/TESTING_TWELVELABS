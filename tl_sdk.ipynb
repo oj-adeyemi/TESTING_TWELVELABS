{
 "cells": [
  {
   "cell_type": "code",
   "execution_count": 1,
   "metadata": {},
   "outputs": [],
   "source": [
    "import os\n",
    "from dotenv import load_dotenv\n",
    "load_dotenv() #get environment variables from .env file\n",
    "\n",
    "TL_API_KEY = os.getenv(\"API_KEY\")\n",
    "assert TL_API_KEY\n"
   ]
  },
  {
   "cell_type": "markdown",
   "metadata": {},
   "source": [
    "### Instiantiate TwelveLabs Client with API KEY"
   ]
  },
  {
   "cell_type": "code",
   "execution_count": 2,
   "metadata": {},
   "outputs": [],
   "source": [
    "from twelvelabs import TwelveLabs\n",
    "\n",
    "client = TwelveLabs(api_key=TL_API_KEY)"
   ]
  },
  {
   "cell_type": "markdown",
   "metadata": {},
   "source": [
    "### Create an Index  (ONLY RUN ONCE)"
   ]
  },
  {
   "cell_type": "code",
   "execution_count": null,
   "metadata": {},
   "outputs": [],
   "source": [
    "from twelvelabs import APIStatusError\n",
    "\n",
    "try:\n",
    "    print(\"Creating Index... \\n\")\n",
    "    index = client.index.create(\n",
    "        name = \"123\",\n",
    "        engines = [{\"name\" : \"marengo2.6\", \"options\" : [\"visual\", \"conversation\", \"text_in_video\"]},\n",
    "                   {\"name\" : \"pegasus1.1\", \"options\" : [\"visual\", \"conversation\"]}], # We dont use Pegasus\n",
    "        \n",
    "         addons=[\"thumbnail\"]\n",
    "    )\n",
    "    \n",
    "    print(f\"Created index: id={index.id} name={index.name} engines={index.engines}\")\n",
    "    \n",
    "except APIStatusError as e:\n",
    "    print(\"API Status Error, 4xx or 5xx : \",e)\n",
    "    \n",
    "except Exception as e:\n",
    "    print(e)\n"
   ]
  },
  {
   "cell_type": "markdown",
   "metadata": {},
   "source": [
    "Helper functions"
   ]
  },
  {
   "cell_type": "code",
   "execution_count": 4,
   "metadata": {},
   "outputs": [],
   "source": [
    "import math\n",
    "\n",
    "def convert_seconds(seconds:str):\n",
    "    \"\"\"Converts seconds to hours, minutes, and seconds in format HH:MM:SS or MM:SS\"\"\"\n",
    "    hours = int(seconds // 3600)\n",
    "    minutes = int((seconds % 3600) // 60)\n",
    "    seconds_remaining = math.floor(seconds % 60)\n",
    "    \n",
    "    if hours > 0:\n",
    "        return f\"{hours}:{minutes:02}:{seconds_remaining:02}\"\n",
    "    else:\n",
    "        return f\"{minutes}:{seconds_remaining:02}\"\n",
    "    \n",
    "    \n",
    "def retrieve_video_name(index_id: str, video_id :str):\n",
    "    \"\"\"Returns file name of video taking index_id and video_id as arguments\"\"\"\n",
    "    video_content = client.index.video.retrieve(index_id=index_id, id=video_id)\n",
    "    video_name = video_content.metadata.filename\n",
    "    \n",
    "    return video_name\n"
   ]
  },
  {
   "cell_type": "markdown",
   "metadata": {},
   "source": [
    "List all my index available with their id, name and engines used"
   ]
  },
  {
   "cell_type": "code",
   "execution_count": 8,
   "metadata": {},
   "outputs": [
    {
     "name": "stdout",
     "output_type": "stream",
     "text": [
      "Index ID: 6686e98c139f029878ae0e08\n",
      "Index Name: 123\n",
      "Index Engines: [\"Engine: pegasus1.1 has options: ['visual', 'conversation']\", \"Engine: marengo2.6 has options: ['visual', 'conversation', 'text_in_video']\"]\n",
      "---\n",
      "Index ID: 66844735eb3979a66bdc9f94\n",
      "Index Name: IndexfromMacBook\n",
      "Index Engines: [\"Engine: pegasus1.1 has options: ['visual']\", \"Engine: marengo2.6 has options: ['visual']\"]\n",
      "---\n",
      "Index ID: 66841d79eb3979a66bdc9f30\n",
      "Index Name: Index1\n",
      "Index Engines: [\"Engine: pegasus1.1 has options: ['visual', 'conversation']\", \"Engine: marengo2.6 has options: ['visual', 'conversation', 'text_in_video', 'logo']\"]\n",
      "---\n",
      "Index ID: 66841c757e3a05b242e8b122\n",
      "Index Name: My Index (Default)\n",
      "Index Engines: [\"Engine: pegasus1 has options: ['visual', 'conversation']\", \"Engine: marengo2.6 has options: ['visual', 'conversation', 'text_in_video', 'logo']\"]\n",
      "---\n"
     ]
    }
   ],
   "source": [
    "\"\"\"List all my indexes\"\"\"\n",
    "indexes = client.index.list().root\n",
    "for index in indexes:\n",
    "    index_id = index.id\n",
    "    index_name = index.name\n",
    "    index_engines = index.engines.root\n",
    "    \n",
    "    print(\"Index ID:\", index_id)\n",
    "    print(\"Index Name:\", index_name)\n",
    "    print(\"Index Engines:\", [f\"Engine: {x.name} has options: {x.options}\" for x in index_engines])\n",
    "    print(\"---\")"
   ]
  },
  {
   "cell_type": "code",
   "execution_count": 6,
   "metadata": {},
   "outputs": [],
   "source": [
    "INDEX_ID = \"6686e98c139f029878ae0e08\" #add a valid index id"
   ]
  },
  {
   "cell_type": "markdown",
   "metadata": {},
   "source": [
    "To Upload a video:"
   ]
  },
  {
   "cell_type": "code",
   "execution_count": null,
   "metadata": {},
   "outputs": [],
   "source": [
    "\"\"\"Use this to upload video to an index\"\"\"\n",
    "from glob import glob\n",
    "from twelvelabs.models.task import Task\n",
    "from twelvelabs import BadRequestError\n",
    "\n",
    "video_files = glob(\"./vids/*.mp4\") # path to videos\n",
    "\n",
    "for vid in video_files:\n",
    "    print(f\"Uploading {vid}\")\n",
    "    try:\n",
    "        task = client.task.create(index_id= INDEX_ID, file=vid, language=\"en\")\n",
    "        print(f\"Task id={task.id}\\n\")\n",
    "    except BadRequestError as e:\n",
    "        print(f\"Error with task: {e}\")\n",
    "    \n",
    "# Monitor the video indexing process \n",
    "def on_task_update(task: Task):\n",
    "    \"\"\"Utility function to print the status of a video indexing task\"\"\"\n",
    "    print(f\"  Status={task.status}\")\n",
    "    \n",
    "try:        \n",
    "    task.wait_for_done(callback=on_task_update)\n",
    "    if task.status != \"ready\":\n",
    "        raise RuntimeError(f\"Indexing failed with status {task.status}\")\n",
    "    print(f\"Uploaded - {task.metadata['filename']} - . The unique identifer of your video is {task.video_id}.\")\n",
    "except Exception as e:\n",
    "    print(f\"Error : {e}\")\n",
    "    "
   ]
  },
  {
   "cell_type": "markdown",
   "metadata": {},
   "source": [
    "List all videos in your index"
   ]
  },
  {
   "cell_type": "code",
   "execution_count": 7,
   "metadata": {},
   "outputs": [
    {
     "name": "stdout",
     "output_type": "stream",
     "text": [
      "Video ID: 6686eaead22b3a3c97bf3e28\n",
      "Video Name: Reporters Asking NBA Players Stupid Questions.mp4\n",
      "Video length: 12:29\n",
      "\n",
      "Video ID: 6686e9e7d22b3a3c97bf3e27\n",
      "Video Name: LBJ.mp4\n",
      "Video length: 4:18\n",
      "\n",
      "Video ID: 6686e9e5d22b3a3c97bf3e26\n",
      "Video Name: NBA Most Iconic Commentary Moments Of All Time.mp4\n",
      "Video length: 8:07\n",
      "\n",
      "Video ID: 6686e9e2d22b3a3c97bf3e25\n",
      "Video Name: plays.mp4\n",
      "Video length: 10:00\n",
      "\n"
     ]
    }
   ],
   "source": [
    "\n",
    "videos = client.index.video.list(INDEX_ID)\n",
    "\n",
    "for vid in videos:\n",
    "    video_id = vid.id\n",
    "    video_name = vid.metadata.filename\n",
    "    video_length = vid.metadata.duration\n",
    "    \n",
    "    print(\"Video ID:\", video_id)\n",
    "    print(\"Video Name:\", video_name)\n",
    "    print(\"Video length:\",convert_seconds(video_length))\n",
    "    print()"
   ]
  },
  {
   "cell_type": "code",
   "execution_count": 262,
   "metadata": {},
   "outputs": [],
   "source": [
    "#Search through video\n",
    "text_query = \"player shooting a three\"\n",
    "\n",
    "#Note query_text parameter doesn't perform well returns videos as having high scores\n",
    "#Note adjust_confidence_level does not have any effects\n",
    "result = client.search.query(index_id=index_id,\n",
    "                             options=[\"conversation\",\"visual\"], #modify parameters as needed see docs\n",
    "                             query=text_query,\n",
    "                             group_by=\"clip\",\n",
    "                             threshold=\"medium\",\n",
    "                             page_limit=10 #limit to top 10 results\n",
    "                             )\n"
   ]
  },
  {
   "cell_type": "code",
   "execution_count": 263,
   "metadata": {},
   "outputs": [
    {
     "name": "stdout",
     "output_type": "stream",
     "text": [
      "Here are some results of the text query 'shooting a three'\n",
      "-------------------------------------------------------\n",
      "\n",
      "video name = NBA Most Iconic Commentary Moments Of All Time.mp4  \n",
      "            start_time = 6:25\n",
      "            end_time = 7:15 \n",
      "            score = 85 \n",
      "            confidence = high\n",
      "\n",
      "video name = Reporters Asking NBA Players Stupid Questions.mp4  \n",
      "            start_time = 3:28\n",
      "            end_time = 3:34 \n",
      "            score = 84 \n",
      "            confidence = high\n",
      "\n",
      "video name = plays.mp4  \n",
      "            start_time = 1:42\n",
      "            end_time = 2:43 \n",
      "            score = 84 \n",
      "            confidence = high\n",
      "\n",
      "video name = plays.mp4  \n",
      "            start_time = 0:20\n",
      "            end_time = 0:54 \n",
      "            score = 83 \n",
      "            confidence = high\n",
      "\n",
      "video name = NBA Most Iconic Commentary Moments Of All Time.mp4  \n",
      "            start_time = 4:53\n",
      "            end_time = 5:10 \n",
      "            score = 83 \n",
      "            confidence = high\n",
      "\n",
      "video name = plays.mp4  \n",
      "            start_time = 2:46\n",
      "            end_time = 3:21 \n",
      "            score = 83 \n",
      "            confidence = high\n",
      "\n",
      "video name = NBA Most Iconic Commentary Moments Of All Time.mp4  \n",
      "            start_time = 2:29\n",
      "            end_time = 2:46 \n",
      "            score = 80 \n",
      "            confidence = medium\n",
      "\n",
      "video name = NBA Most Iconic Commentary Moments Of All Time.mp4  \n",
      "            start_time = 5:35\n",
      "            end_time = 6:15 \n",
      "            score = 80 \n",
      "            confidence = medium\n",
      "\n",
      "video name = NBA Most Iconic Commentary Moments Of All Time.mp4  \n",
      "            start_time = 3:51\n",
      "            end_time = 4:04 \n",
      "            score = 79 \n",
      "            confidence = medium\n",
      "\n",
      "video name = plays.mp4  \n",
      "            start_time = 1:21\n",
      "            end_time = 1:40 \n",
      "            score = 79 \n",
      "            confidence = medium\n",
      "\n"
     ]
    }
   ],
   "source": [
    "\n",
    "index_id = result.pool.index_id\n",
    "\n",
    "print(f\"Here are some results of the text query '{text_query}'\")\n",
    "print(\"-------------------------------------------------------\\n\")\n",
    "\n",
    "for clip in result.data:\n",
    "      print(\n",
    "      f\"\"\"video name = {retrieve_video_name(index_id=index_id,video_id=clip.video_id)}  \n",
    "            start_time = {convert_seconds(clip.start)}\n",
    "            end_time = {convert_seconds(clip.end)} \n",
    "            score = {round(clip.score)} \n",
    "            confidence = {clip.confidence}\\n\"\"\"\n",
    "        )\n",
    "\n",
    "# #Loop through page and display more results if available      \n",
    "# while True:\n",
    "#     try:\n",
    "#         next_page_data = next(result)\n",
    "#         print(f\"Next page's data \\n\")\n",
    "#         for clip in next_page_data:\n",
    "#             print(\n",
    "#             f\"\"\"video name = {retrieve_video_name(index_id=index_id,video_id=clip.video_id)}\n",
    "#             start_time = {convert_seconds(clip.start)}\n",
    "#             end_time = {convert_seconds(clip.end)}   \n",
    "#             score = {round(clip.score)} \n",
    "#             confidence = {clip.confidence}\\n\"\"\"\n",
    "#             )\n",
    "#     except StopIteration:\n",
    "#         print(\"\\nThere is no more pages in search result\")\n",
    "#         break\n"
   ]
  }
 ],
 "metadata": {
  "kernelspec": {
   "display_name": ".venv",
   "language": "python",
   "name": "python3"
  },
  "language_info": {
   "codemirror_mode": {
    "name": "ipython",
    "version": 3
   },
   "file_extension": ".py",
   "mimetype": "text/x-python",
   "name": "python",
   "nbconvert_exporter": "python",
   "pygments_lexer": "ipython3",
   "version": "3.11.1"
  }
 },
 "nbformat": 4,
 "nbformat_minor": 2
}
