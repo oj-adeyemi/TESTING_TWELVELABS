{
 "cells": [
  {
   "cell_type": "markdown",
   "metadata": {},
   "source": [
    "## USING TWELVE LABS API"
   ]
  },
  {
   "cell_type": "code",
   "execution_count": 12,
   "metadata": {},
   "outputs": [],
   "source": [
    "import os\n",
    "import requests\n",
    "from pprint import pprint\n",
    "from dotenv import load_dotenv\n",
    "\n",
    "load_dotenv() #get environment variables from .env file\n",
    "\n",
    "TL_API_URL = os.getenv('API_URL')\n",
    "assert TL_API_URL\n",
    "\n",
    "TL_API_KEY = os.getenv('API_KEY')\n",
    "assert TL_API_KEY\n",
    "\n",
    "headers = {\n",
    "    \"x-api-key\": TL_API_KEY,\n",
    "     \"accept\": \"application/json\",\n",
    "    \n",
    "}"
   ]
  },
  {
   "cell_type": "markdown",
   "metadata": {},
   "source": [
    "### HELPER FUNCTIONS"
   ]
  },
  {
   "cell_type": "code",
   "execution_count": 31,
   "metadata": {},
   "outputs": [],
   "source": [
    "import math\n",
    "\n",
    "def convert_seconds(seconds:str):\n",
    "    \"\"\"Converts seconds to hours, minutes, and seconds in format HH:MM:SS or MM:SS\"\"\"\n",
    "    hours = int(seconds // 3600)\n",
    "    minutes = int((seconds % 3600) // 60)\n",
    "    seconds_remaining = math.floor(seconds % 60)\n",
    "    \n",
    "    if hours > 0:\n",
    "        return f\"{hours}:{minutes:02}:{seconds_remaining:02}\"\n",
    "    else:\n",
    "        return f\"{minutes}:{seconds_remaining:02}\"\n",
    "    \n",
    "\n",
    "def extract_and_print_engine_info(data):\n",
    "    \"\"\"Extracts and prints engine information from JSON data.\"\"\"\n",
    "    sorted_data = sorted(data['data'], key=lambda x: x['_id'])  # Sort by engine ID\n",
    "    \n",
    "    for item in sorted_data:\n",
    "        engine_id = item['_id']\n",
    "        allowed_options = item['allowed_engine_options']\n",
    "        ready = item['ready']\n",
    "\n",
    "        print(f\"Engine ID: {engine_id}\")\n",
    "        print(f\"Allowed Options: {', '.join(allowed_options)}\")\n",
    "        print(f\"Ready: {'Yes' if ready else 'No'}\")\n",
    "        print(\"=\"*40)\n",
    "\n",
    "\n",
    "def extract_and_print_index_info(data):\n",
    "    \"\"\"This function extracts and prints index information from the given JSON data.\"\"\"\n",
    "    \n",
    "    for item in data['data']:\n",
    "        index_id = item['_id']\n",
    "        index_name = item['index_name']\n",
    "        created_at = item['created_at']\n",
    "        engines = \", \".join([f\"{engine['engine_name']} ({', '.join(engine['engine_options'])})\" for engine in item['engines']])\n",
    "        video_count = item['video_count']\n",
    "        \n",
    "        print(f\"Index ID: {index_id}\")\n",
    "        print(f\"Index Name: {index_name}\")\n",
    "        print(f\"Created At: {created_at}\")\n",
    "        print(f\"Engines: {engines}\")\n",
    "        print(f\"Video Count: {video_count}\")\n",
    "        print(\"=\" * 40)\n",
    "\n",
    "\n",
    "\n",
    "def extract_and_print_video_info(data):\n",
    "    \"\"\"Extracts and prints video information.\"\"\"\n",
    "    for item in data['data']:\n",
    "        video_id = item['_id']\n",
    "        filename = item['metadata']['filename']\n",
    "        duration = item['metadata']['duration']\n",
    "        fps = item['metadata']['fps']\n",
    "        width = item['metadata']['width']\n",
    "        height = item['metadata']['height']\n",
    "\n",
    "        resolution_str = f\"{width} x {height}\"\n",
    "\n",
    "        print(f\"Video ID: {video_id}\")\n",
    "        print(f\"File Name: {filename}\")\n",
    "        print(f\"Duration: {convert_seconds(duration)}\")\n",
    "        print(f\"FPS: {fps}\")\n",
    "        print(f\"Resolution: {resolution_str}\")\n",
    "        print(\"=\" * 40)\n",
    "\n",
    "def _get_video_name_from_video_id(index_id: str, video_id: str):\n",
    "    \"\"\"Get video information from index_id and video_id\n",
    "    JSON Structure:\n",
    "{\n",
    "    '_id': 'some_video_id',\n",
    "    'created_at': '2024-07-04T18:28:50Z',\n",
    "    'hls': {\n",
    "        'status': 'COMPLETE',\n",
    "        'thumbnail_urls': ['something.jpg'],\n",
    "        'updated_at': '2024-07-04T18:31:24.404Z',\n",
    "        'video_url': 'something.m3u8'\n",
    "    },\n",
    "    'indexed_at': '2024-07-04T18:37:08Z',\n",
    "    'metadata': {\n",
    "        'duration': 600.766667,\n",
    "        'engine_ids': ['pegasus1.1', 'marengo2.6'],\n",
    "        'filename': 'plays.mp4',\n",
    "        'fps': 30,\n",
    "        'height': 360,\n",
    "        'size': 55084753,\n",
    "        'video_title': 'plays.mp4',\n",
    "        'width': 640\n",
    "    }\n",
    "}\n",
    "    \"\"\"\n",
    "    video_name_url = f\"{TL_API_URL}/indexes/{index_id}/videos/{video_id}\"\n",
    "    response = requests.get(url=video_name_url, headers=headers)\n",
    "    video_data = response.json()\n",
    "    video_name = video_data['metadata']['filename']\n",
    "    video_thumbnail = video_data['hls']['thumbnail_urls']\n",
    "    video_url = video_data['hls']['video_url']\n",
    "    \n",
    "    \n",
    "    return video_name, video_thumbnail, video_url\n",
    "    \n",
    "def extract_and_print_search_result_data(index_id: str, result_data):\n",
    "    \"\"\"This function takes in a JSON object of search results and displays relevant info.\n",
    "\n",
    "    JSON structure:\n",
    "    {\n",
    "        'data': [\n",
    "            {\n",
    "                'confidence': 'high',\n",
    "                'end': 572.5000000001367,\n",
    "                'score': 85.57,\n",
    "                'start': 511.933333333525,\n",
    "                'video_id': 'SOME_VIDEO_ID'\n",
    "            },\n",
    "            {\n",
    "                'confidence': 'high',\n",
    "                'end': 479.700000000166,\n",
    "                'score': 85.01,\n",
    "                'start': 474.14166666682945,\n",
    "                'video_id': 'SOME_VIDEO_ID'\n",
    "            } ...\n",
    "        ],\n",
    "\n",
    "        'page_info': {\n",
    "            'limit_per_page': 10,\n",
    "            'next_page_token': '91f418f7-53be-4628-8daa-eec2c370d4ff-1',\n",
    "            'page_expired_at': '2024-07-06T01:34:00Z',\n",
    "            'total_results': 58\n",
    "        },\n",
    "\n",
    "        'search_pool': {\n",
    "            'index_id': 'INDEX_ID',\n",
    "            'total_count': 4,\n",
    "            'total_duration': 2097\n",
    "        }\n",
    "    }\n",
    "\n",
    "    Edit this function to add more info from the search result. \n",
    "    \"\"\"\n",
    "    \n",
    "    result = result_data['data']\n",
    "    \n",
    "    if result:\n",
    "        for item in result:\n",
    "            video_id = item['video_id']\n",
    "            video_name, video_thumbnail, video_url = _get_video_name_from_video_id(index_id=index_id, video_id=video_id)\n",
    "            score = item['score']\n",
    "            confidence = item['confidence']\n",
    "            start = item['start']\n",
    "            end = item['end']\n",
    "\n",
    "            print(f\"Video ID: {video_id}\")\n",
    "            print(f\"Video Name: {video_name}\")\n",
    "            print(f\"Video thumbnail: {video_thumbnail}\")\n",
    "            print(f\"Video URL (HRL m3u8 format): {video_url}\")\n",
    "            print(f\"Start: {convert_seconds(start)}\")\n",
    "            print(f\"End: {convert_seconds(end)}\")\n",
    "            print(f\"Score: {score}\")\n",
    "            print(f\"Confidence: {confidence}\")\n",
    "            print(\"=\"*40)\n",
    "    else:\n",
    "        print(\"No relevant search result\")\n",
    "\n"
   ]
  },
  {
   "cell_type": "markdown",
   "metadata": {},
   "source": [
    "### List all engines"
   ]
  },
  {
   "cell_type": "code",
   "execution_count": 14,
   "metadata": {},
   "outputs": [
    {
     "name": "stdout",
     "output_type": "stream",
     "text": [
      "Engine ID: marengo\n",
      "Allowed Options: visual, text_in_video, conversation, logo\n",
      "Ready: Yes\n",
      "========================================\n",
      "Engine ID: marengo2\n",
      "Allowed Options: visual, text_in_video, conversation, logo\n",
      "Ready: Yes\n",
      "========================================\n",
      "Engine ID: marengo2.5\n",
      "Allowed Options: visual, text_in_video, conversation, logo\n",
      "Ready: Yes\n",
      "========================================\n",
      "Engine ID: marengo2.6\n",
      "Allowed Options: visual, text_in_video, conversation, logo\n",
      "Ready: Yes\n",
      "========================================\n",
      "Engine ID: pegasus1\n",
      "Allowed Options: visual, conversation\n",
      "Ready: Yes\n",
      "========================================\n",
      "Engine ID: pegasus1.1\n",
      "Allowed Options: visual+conversation, visual, conversation\n",
      "Ready: Yes\n",
      "========================================\n"
     ]
    }
   ],
   "source": [
    "ENGINES_URL = f\"{TL_API_URL}/engines\"\n",
    "\n",
    "response = requests.get(url=ENGINES_URL, headers=headers)\n",
    "\n",
    "extract_and_print_engine_info(response.json())"
   ]
  },
  {
   "cell_type": "markdown",
   "metadata": {},
   "source": [
    "### Create an Index"
   ]
  },
  {
   "cell_type": "code",
   "execution_count": 15,
   "metadata": {},
   "outputs": [],
   "source": [
    "# INDEXES_URL = f\"{TL_API_URL}/indexes\"\n",
    "# INDEX_NAME = \"<MYINDEXNAME>\" # Use a descriptive name for your index \n",
    "# data = {\n",
    "#     \"engine_id\": \"marengo\",\n",
    "#     \"index_options\": [\"visual\", \"conversation\", \"text_in_video\"],\n",
    "#     \"index_name\": INDEX_NAME,\n",
    "# }\n",
    "# response = requests.post(INDEXES_URL, headers=headers, json=data)\n",
    "\n",
    "# print (f'Status code: {response.status_code}')\n",
    "# pprint (response.json())"
   ]
  },
  {
   "cell_type": "markdown",
   "metadata": {},
   "source": [
    "### List all available index\n",
    "This allows you to return a list of indexes in your account"
   ]
  },
  {
   "cell_type": "code",
   "execution_count": 16,
   "metadata": {},
   "outputs": [
    {
     "name": "stdout",
     "output_type": "stream",
     "text": [
      "Index ID: 6686e98c139f029878ae0e08\n",
      "Index Name: 123\n",
      "Created At: 2024-07-04T18:27:24.779Z\n",
      "Engines: marengo2.6 (visual, conversation, text_in_video), pegasus1.1 (visual, conversation)\n",
      "Video Count: 4\n",
      "========================================\n",
      "Index ID: 66844735eb3979a66bdc9f94\n",
      "Index Name: IndexfromMacBook\n",
      "Created At: 2024-07-02T18:30:13.506Z\n",
      "Engines: pegasus1.1 (visual), marengo2.6 (visual)\n",
      "Video Count: 3\n",
      "========================================\n",
      "Index ID: 66841d79eb3979a66bdc9f30\n",
      "Index Name: Index1\n",
      "Created At: 2024-07-02T15:32:09Z\n",
      "Engines: marengo2.6 (visual, conversation, text_in_video, logo), pegasus1.1 (visual, conversation)\n",
      "Video Count: 1\n",
      "========================================\n",
      "Index ID: 66841c757e3a05b242e8b122\n",
      "Index Name: My Index (Default)\n",
      "Created At: 2024-07-02T15:27:49.156Z\n",
      "Engines: marengo2.6 (visual, conversation, text_in_video, logo), pegasus1.1 (visual, conversation)\n",
      "Video Count: 0\n",
      "========================================\n"
     ]
    }
   ],
   "source": [
    "INDEXES_URL = f\"{TL_API_URL}/indexes\"\n",
    "\n",
    "response = requests.get(url=INDEXES_URL, headers=headers)\n",
    "\n",
    "data = response.json()\n",
    "\n",
    "extract_and_print_index_info(data)"
   ]
  },
  {
   "cell_type": "code",
   "execution_count": 17,
   "metadata": {},
   "outputs": [],
   "source": [
    "INDEX_ID = \"6686e98c139f029878ae0e08\" #add valid index_id"
   ]
  },
  {
   "cell_type": "markdown",
   "metadata": {},
   "source": [
    "### Upload a video"
   ]
  },
  {
   "cell_type": "code",
   "execution_count": 18,
   "metadata": {},
   "outputs": [],
   "source": [
    " #INDEX_TASK_URL = f\"{TL_API_URL}/indexes/tasks\"\n",
    "# file_name = \"<YOUR_FILE_NAME>\" # Example: \"test.mp4\"\n",
    "# file_path = \"<YOUR_FILE_PATH>\" # Example: \"/Downloads/test.mp4\"\n",
    "# file_stream = open(file_path,'rb')\n",
    "# data = {\n",
    "#     \"index_id\": INDEX_ID, \n",
    "#     \"language\": \"en\"\n",
    "# }\n",
    "# file_param=[('video_file', (file_name, file_stream, 'application/octet-stream'))]\n",
    "# response = requests.post(INDEX_TASK_URL, headers=headers, data=data, files=file_param)\n",
    "# TASK_ID = response.json().get('_id')\n",
    "# pprint (response.status_code)\n",
    "# pprint (response.json())\n"
   ]
  },
  {
   "cell_type": "markdown",
   "metadata": {},
   "source": [
    "### List all videos in Index"
   ]
  },
  {
   "cell_type": "code",
   "execution_count": 19,
   "metadata": {},
   "outputs": [
    {
     "name": "stdout",
     "output_type": "stream",
     "text": [
      "Video ID: 6686eaead22b3a3c97bf3e28\n",
      "File Name: Reporters Asking NBA Players Stupid Questions.mp4\n",
      "Duration: 12:29\n",
      "FPS: 30\n",
      "Resolution: 640 x 360\n",
      "========================================\n",
      "Video ID: 6686e9e7d22b3a3c97bf3e27\n",
      "File Name: LBJ.mp4\n",
      "Duration: 4:18\n",
      "FPS: 29.97\n",
      "Resolution: 640 x 360\n",
      "========================================\n",
      "Video ID: 6686e9e5d22b3a3c97bf3e26\n",
      "File Name: NBA Most Iconic Commentary Moments Of All Time.mp4\n",
      "Duration: 8:07\n",
      "FPS: 30\n",
      "Resolution: 640 x 360\n",
      "========================================\n",
      "Video ID: 6686e9e2d22b3a3c97bf3e25\n",
      "File Name: plays.mp4\n",
      "Duration: 10:00\n",
      "FPS: 30\n",
      "Resolution: 640 x 360\n",
      "========================================\n"
     ]
    }
   ],
   "source": [
    "VIDEOS_URL = f\"{TL_API_URL}/indexes/{INDEX_ID}/videos\"\n",
    "\n",
    "response = requests.get(url=VIDEOS_URL, headers=headers)\n",
    "\n",
    "data = response.json()\n",
    "\n",
    "extract_and_print_video_info(data)"
   ]
  },
  {
   "cell_type": "markdown",
   "metadata": {},
   "source": [
    "### Make A Search Request"
   ]
  },
  {
   "cell_type": "code",
   "execution_count": null,
   "metadata": {},
   "outputs": [],
   "source": [
    "SEARCH_QUERY = \"Lebron James blocks shot\"  # enter search prompt here\n",
    "\n",
    "headers[\"Content-Type\"] =  \"multipart/form-data\"\n",
    "SEARCH_URL = f\"{TL_API_URL}/search\"\n",
    "\n",
    "#read docs and manipulate as you wish\n",
    "data = {\n",
    "    \"query\": SEARCH_QUERY,\n",
    "    \"index_id\": INDEX_ID,\n",
    "    \"search_options\": [\"visual\", \"conversation\"], \n",
    "    \"threshold\" : \"medium\",\n",
    "    \"adjust_confidence_level\": 0.55,\n",
    "    \"sort_option\": \"score\",\n",
    "    \"conversation_option\": \"semantic\",\n",
    "    \"page_limit\": 10 #get only top 10 results\n",
    "}\n",
    "response = requests.post(SEARCH_URL, headers=headers, json=data)\n",
    "result = response.json()\n",
    "print(f\"Searching '{SEARCH_QUERY}' with search options: {[opt for opt in data['search_options']]}\\n\")\n",
    "\n",
    "if response.status_code == 200:\n",
    "    extract_and_print_search_result_data(INDEX_ID, result)\n",
    "else:\n",
    "    pprint(result)\n"
   ]
  }
 ],
 "metadata": {
  "kernelspec": {
   "display_name": ".venv",
   "language": "python",
   "name": "python3"
  },
  "language_info": {
   "codemirror_mode": {
    "name": "ipython",
    "version": 3
   },
   "file_extension": ".py",
   "mimetype": "text/x-python",
   "name": "python",
   "nbconvert_exporter": "python",
   "pygments_lexer": "ipython3",
   "version": "3.11.1"
  }
 },
 "nbformat": 4,
 "nbformat_minor": 2
}
