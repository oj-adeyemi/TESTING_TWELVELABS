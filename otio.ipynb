{
 "cells": [
  {
   "cell_type": "code",
   "execution_count": 1,
   "metadata": {},
   "outputs": [],
   "source": [
    "import opentimelineio as otio\n",
    "# Create a timeline\n",
    "timeline = otio.schema.Timeline(name=\"High Confidence Clips\")\n",
    "# Create a video track\n",
    "video_track = otio.schema.Track(name=\"Video Track\", kind=otio.schema.TrackKind.Video)\n",
    "timeline.tracks.append(video_track)\n",
    "# List of clips with their details Top 10 clips of Kobe Bryant seacrh result\n",
    "clips_data = [\n",
    "    {\"video\": \"plays.mp4\", \"start\": 211.56666666665723, \"end\": 228.66666666665625},\n",
    "    {\"video\": \"plays.mp4\", \"start\": 449.6000000001421, \"end\": 459.133333333483},\n",
    "    {\"video\": \"plays.mp4\", \"start\": 393.1000000000971, \"end\": 397.6000000001007},\n",
    "    {\"video\": \"plays.mp4\", \"start\": 185.26666666665872, \"end\": 191.1666666666584},\n",
    "    {\"video\": \"plays.mp4\", \"start\": 18.2333333333334, \"end\": 21.500000000000227},\n",
    "    {\"video\": \"plays.mp4\", \"start\": 3.5666666666666638, \"end\": 7.8666666666666485},\n",
    "    {\"video\": \"plays.mp4\", \"start\": 431.4666666667943, \"end\": 442.000000000136},\n",
    "    {\"video\": \"plays.mp4\", \"start\": 295.366666666686, \"end\": 302.033333333358},\n",
    "    {\"video\": \"plays.mp4\", \"start\": 211.56666666665723, \"end\": 228.66666666665625},\n",
    "    {\"video\": \"plays.mp4\", \"start\": 269.1999999999985, \"end\": 274.00000000000233},\n",
    "    {\"video\": \"plays.mp4\", \"start\": 304.5666666666941, \"end\": 309.10000000003026},\n",
    "]"
   ]
  },
  {
   "cell_type": "code",
   "execution_count": 4,
   "metadata": {},
   "outputs": [],
   "source": [
    "import math\n",
    "def convert_seconds(seconds:str):\n",
    "    \"\"\"Converts seconds to hours, minutes, and seconds in format HH:MM:SS or MM:SS\"\"\"\n",
    "    hours = int(seconds // 3600)\n",
    "    minutes = int((seconds % 3600) // 60)\n",
    "    seconds_remaining = math.floor(seconds % 60)\n",
    "    \n",
    "    if hours > 0:\n",
    "        return f\"{hours}:{minutes:02}:{seconds_remaining:02}\"\n",
    "    else:\n",
    "        return f\"{minutes}:{seconds_remaining:02}\"\n",
    "    \n",
    "# Function to create a clip from data\n",
    "def create_clip(video, start, end):\n",
    "    duration = end - start\n",
    "    media_reference = otio.schema.ExternalReference(\n",
    "        target_url=video,\n",
    "        available_range=otio.opentime.TimeRange(\n",
    "            start_time=otio.opentime.RationalTime(start, 24),\n",
    "            duration=otio.opentime.RationalTime(duration, 24)\n",
    "        )\n",
    "    )\n",
    "    return otio.schema.Clip(\n",
    "        name=f\"Clip from {start:.2f} to {end:.2f}\",\n",
    "        media_reference=media_reference\n",
    "    )\n",
    "# Create and add clips to the video track\n",
    "for clip_data in clips_data:\n",
    "    clip = create_clip(clip_data[\"video\"], clip_data[\"start\"], clip_data[\"end\"])\n",
    "    video_track.append(clip)\n",
    "# Serialize the timeline to a JSON file\n",
    "otio.adapters.write_to_file(timeline, \"high_confidence_clips.otio\")\n",
    "\n",
    "\n",
    "\n",
    "\n",
    "\n",
    "\n"
   ]
  }
 ],
 "metadata": {
  "kernelspec": {
   "display_name": ".venv",
   "language": "python",
   "name": "python3"
  },
  "language_info": {
   "codemirror_mode": {
    "name": "ipython",
    "version": 3
   },
   "file_extension": ".py",
   "mimetype": "text/x-python",
   "name": "python",
   "nbconvert_exporter": "python",
   "pygments_lexer": "ipython3",
   "version": "3.11.1"
  }
 },
 "nbformat": 4,
 "nbformat_minor": 2
}
